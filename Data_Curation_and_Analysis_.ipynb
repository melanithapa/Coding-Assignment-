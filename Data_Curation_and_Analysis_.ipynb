{
  "nbformat": 4,
  "nbformat_minor": 0,
  "metadata": {
    "colab": {
      "provenance": []
    },
    "kernelspec": {
      "name": "python3",
      "display_name": "Python 3"
    },
    "language_info": {
      "name": "python"
    }
  },
  "cells": [
    {
      "cell_type": "code",
      "execution_count": 2,
      "metadata": {
        "colab": {
          "base_uri": "https://localhost:8080/"
        },
        "id": "NvDahQZdH-rm",
        "outputId": "9791c6a2-8a51-4021-df07-af0f22621c0b"
      },
      "outputs": [
        {
          "output_type": "stream",
          "name": "stdout",
          "text": [
            "Collecting wikipedia-api\n",
            "  Downloading Wikipedia_API-0.6.0-py3-none-any.whl (14 kB)\n",
            "Requirement already satisfied: requests in /usr/local/lib/python3.10/dist-packages (from wikipedia-api) (2.31.0)\n",
            "Requirement already satisfied: charset-normalizer<4,>=2 in /usr/local/lib/python3.10/dist-packages (from requests->wikipedia-api) (3.3.2)\n",
            "Requirement already satisfied: idna<4,>=2.5 in /usr/local/lib/python3.10/dist-packages (from requests->wikipedia-api) (3.4)\n",
            "Requirement already satisfied: urllib3<3,>=1.21.1 in /usr/local/lib/python3.10/dist-packages (from requests->wikipedia-api) (2.0.7)\n",
            "Requirement already satisfied: certifi>=2017.4.17 in /usr/local/lib/python3.10/dist-packages (from requests->wikipedia-api) (2023.7.22)\n",
            "Installing collected packages: wikipedia-api\n",
            "Successfully installed wikipedia-api-0.6.0\n"
          ]
        }
      ],
      "source": [
        "pip install wikipedia-api"
      ]
    },
    {
      "cell_type": "code",
      "source": [
        "import wikipediaapi\n",
        "import requests\n",
        "import pandas as pd\n",
        "from bs4 import BeautifulSoup"
      ],
      "metadata": {
        "id": "9fN16zsdK-Hj"
      },
      "execution_count": 3,
      "outputs": []
    },
    {
      "cell_type": "markdown",
      "source": [
        "We are scraping information from the Wikipedia page on the list of countries and dependencies by population and convert the relevant HTML table into a Pandas DataFrame"
      ],
      "metadata": {
        "id": "lic-tMxYvT-3"
      }
    },
    {
      "cell_type": "code",
      "source": [
        "# Scraping\n",
        "opened_webpage = requests.get(\"https://en.wikipedia.org/wiki/List_of_countries_and_dependencies_by_population\")\n",
        "print(\"Webpage opened successfully...\")\n",
        "\n",
        "# Initialize a BeautifulSoup\n",
        "bs = BeautifulSoup(opened_webpage.content, \"html.parser\")\n",
        "print(\"Webpage loaded and parsed successfully...\")"
      ],
      "metadata": {
        "colab": {
          "base_uri": "https://localhost:8080/"
        },
        "id": "O6uLIkaOLWQD",
        "outputId": "e84a05da-fa19-4847-e89b-892d2ee297eb"
      },
      "execution_count": 7,
      "outputs": [
        {
          "output_type": "stream",
          "name": "stdout",
          "text": [
            "Webpage opened successfully...\n",
            "Webpage loaded and parsed successfully...\n"
          ]
        }
      ]
    },
    {
      "cell_type": "markdown",
      "source": [
        "Retrieved the HTML content of the Wikipedia page, load it into BeautifulSoup for parsing, and print messages to indicate successful execution of these steps."
      ],
      "metadata": {
        "id": "KwC9X6u6v24B"
      }
    },
    {
      "cell_type": "code",
      "source": [
        "# Find the table with the desired class\n",
        "countrytable = bs.find('table', {'class': \"wikitable\"})\n",
        "\n",
        "# Convert the HTML table to a Pandas DataFrame\n",
        "userdata = pd.read_html(str(countrytable))[0]\n",
        "\n",
        "# Display the DataFrame\n",
        "print(userdata.head())\n",
        "\n",
        "# Save the raw data to a CSV file\n",
        "raw_data_file = \"population_raw_data.csv\"\n",
        "userdata.to_csv(raw_data_file, index=False)\n",
        "\n",
        "# Save the processed data to a CSV file\n",
        "processed_data_file = \"population_processed_data.csv\"\n",
        "userdata.to_csv(processed_data_file, index=False)"
      ],
      "metadata": {
        "colab": {
          "base_uri": "https://localhost:8080/"
        },
        "id": "7ajNxGotM3qi",
        "outputId": "daf1d53b-dc11-40a6-e9bf-44482e81c015"
      },
      "execution_count": 8,
      "outputs": [
        {
          "output_type": "stream",
          "name": "stdout",
          "text": [
            "  Unnamed: 0 Country / Dependency  Population % of world         Date  \\\n",
            "0          –                World  8074600000       100%  30 Nov 2023   \n",
            "1          1                China  1411750000        NaN  31 Dec 2022   \n",
            "2          2                India  1392329000        NaN   1 Mar 2023   \n",
            "3          3        United States   334233854        NaN   1 Jan 2023   \n",
            "4          4            Indonesia   279118866        NaN   1 Jul 2023   \n",
            "\n",
            "  Source (official or from the United Nations) Unnamed: 6  \n",
            "0                             UN projection[3]        NaN  \n",
            "1                         Official estimate[4]        [b]  \n",
            "2                       Official projection[5]        [c]  \n",
            "3                         Official estimate[7]        [d]  \n",
            "4                National annual projection[8]        NaN  \n"
          ]
        }
      ]
    },
    {
      "cell_type": "markdown",
      "source": [
        "Finding a specific HTML table on the Wikipedia page, converting it into a Pandas DataFrame, displaying the first few rows of the DataFrame, and saving both the raw and processed data to CSV files."
      ],
      "metadata": {
        "id": "JqzX7BHdv_IN"
      }
    },
    {
      "cell_type": "code",
      "source": [
        "# Display the processed DataFrame\n",
        "userdata = pd.read_html(str(countrytable))\n",
        "userdata = pd.DataFrame(userdata[0])\n",
        "userdata"
      ],
      "metadata": {
        "colab": {
          "base_uri": "https://localhost:8080/",
          "height": 423
        },
        "id": "kE2uF6goSOmX",
        "outputId": "5d09d104-a7f2-4c37-b50c-e2b38cc40efd"
      },
      "execution_count": 12,
      "outputs": [
        {
          "output_type": "execute_result",
          "data": {
            "text/plain": [
              "    Unnamed: 0                 Country / Dependency  Population % of world  \\\n",
              "0            –                                World  8074600000       100%   \n",
              "1            1                                China  1411750000        NaN   \n",
              "2            2                                India  1392329000        NaN   \n",
              "3            3                        United States   334233854        NaN   \n",
              "4            4                            Indonesia   279118866        NaN   \n",
              "..         ...                                  ...         ...        ...   \n",
              "237          –                         Tokelau (NZ)        1647        NaN   \n",
              "238          –                                 Niue        1549        NaN   \n",
              "239        195                         Vatican City         764        NaN   \n",
              "240          –  Cocos (Keeling) Islands (Australia)         593        NaN   \n",
              "241          –                Pitcairn Islands (UK)          47        NaN   \n",
              "\n",
              "            Date Source (official or from the United Nations) Unnamed: 6  \n",
              "0    30 Nov 2023                             UN projection[3]        NaN  \n",
              "1    31 Dec 2022                         Official estimate[4]        [b]  \n",
              "2     1 Mar 2023                       Official projection[5]        [c]  \n",
              "3     1 Jan 2023                         Official estimate[7]        [d]  \n",
              "4     1 Jul 2023                National annual projection[8]        NaN  \n",
              "..           ...                                          ...        ...  \n",
              "237   1 Jan 2019                            2019 Census [233]        NaN  \n",
              "238   1 Jul 2021              National annual projection[183]        NaN  \n",
              "239  26 Jun 2023                         Official figure[234]       [af]  \n",
              "240  30 Jun 2020                             2021 Census[235]        NaN  \n",
              "241   1 Jul 2021                       Official estimate[236]        NaN  \n",
              "\n",
              "[242 rows x 7 columns]"
            ],
            "text/html": [
              "\n",
              "  <div id=\"df-a0c586da-788a-4ecb-8092-372bfaca5388\" class=\"colab-df-container\">\n",
              "    <div>\n",
              "<style scoped>\n",
              "    .dataframe tbody tr th:only-of-type {\n",
              "        vertical-align: middle;\n",
              "    }\n",
              "\n",
              "    .dataframe tbody tr th {\n",
              "        vertical-align: top;\n",
              "    }\n",
              "\n",
              "    .dataframe thead th {\n",
              "        text-align: right;\n",
              "    }\n",
              "</style>\n",
              "<table border=\"1\" class=\"dataframe\">\n",
              "  <thead>\n",
              "    <tr style=\"text-align: right;\">\n",
              "      <th></th>\n",
              "      <th>Unnamed: 0</th>\n",
              "      <th>Country / Dependency</th>\n",
              "      <th>Population</th>\n",
              "      <th>% of world</th>\n",
              "      <th>Date</th>\n",
              "      <th>Source (official or from the United Nations)</th>\n",
              "      <th>Unnamed: 6</th>\n",
              "    </tr>\n",
              "  </thead>\n",
              "  <tbody>\n",
              "    <tr>\n",
              "      <th>0</th>\n",
              "      <td>–</td>\n",
              "      <td>World</td>\n",
              "      <td>8074600000</td>\n",
              "      <td>100%</td>\n",
              "      <td>30 Nov 2023</td>\n",
              "      <td>UN projection[3]</td>\n",
              "      <td>NaN</td>\n",
              "    </tr>\n",
              "    <tr>\n",
              "      <th>1</th>\n",
              "      <td>1</td>\n",
              "      <td>China</td>\n",
              "      <td>1411750000</td>\n",
              "      <td>NaN</td>\n",
              "      <td>31 Dec 2022</td>\n",
              "      <td>Official estimate[4]</td>\n",
              "      <td>[b]</td>\n",
              "    </tr>\n",
              "    <tr>\n",
              "      <th>2</th>\n",
              "      <td>2</td>\n",
              "      <td>India</td>\n",
              "      <td>1392329000</td>\n",
              "      <td>NaN</td>\n",
              "      <td>1 Mar 2023</td>\n",
              "      <td>Official projection[5]</td>\n",
              "      <td>[c]</td>\n",
              "    </tr>\n",
              "    <tr>\n",
              "      <th>3</th>\n",
              "      <td>3</td>\n",
              "      <td>United States</td>\n",
              "      <td>334233854</td>\n",
              "      <td>NaN</td>\n",
              "      <td>1 Jan 2023</td>\n",
              "      <td>Official estimate[7]</td>\n",
              "      <td>[d]</td>\n",
              "    </tr>\n",
              "    <tr>\n",
              "      <th>4</th>\n",
              "      <td>4</td>\n",
              "      <td>Indonesia</td>\n",
              "      <td>279118866</td>\n",
              "      <td>NaN</td>\n",
              "      <td>1 Jul 2023</td>\n",
              "      <td>National annual projection[8]</td>\n",
              "      <td>NaN</td>\n",
              "    </tr>\n",
              "    <tr>\n",
              "      <th>...</th>\n",
              "      <td>...</td>\n",
              "      <td>...</td>\n",
              "      <td>...</td>\n",
              "      <td>...</td>\n",
              "      <td>...</td>\n",
              "      <td>...</td>\n",
              "      <td>...</td>\n",
              "    </tr>\n",
              "    <tr>\n",
              "      <th>237</th>\n",
              "      <td>–</td>\n",
              "      <td>Tokelau (NZ)</td>\n",
              "      <td>1647</td>\n",
              "      <td>NaN</td>\n",
              "      <td>1 Jan 2019</td>\n",
              "      <td>2019 Census [233]</td>\n",
              "      <td>NaN</td>\n",
              "    </tr>\n",
              "    <tr>\n",
              "      <th>238</th>\n",
              "      <td>–</td>\n",
              "      <td>Niue</td>\n",
              "      <td>1549</td>\n",
              "      <td>NaN</td>\n",
              "      <td>1 Jul 2021</td>\n",
              "      <td>National annual projection[183]</td>\n",
              "      <td>NaN</td>\n",
              "    </tr>\n",
              "    <tr>\n",
              "      <th>239</th>\n",
              "      <td>195</td>\n",
              "      <td>Vatican City</td>\n",
              "      <td>764</td>\n",
              "      <td>NaN</td>\n",
              "      <td>26 Jun 2023</td>\n",
              "      <td>Official figure[234]</td>\n",
              "      <td>[af]</td>\n",
              "    </tr>\n",
              "    <tr>\n",
              "      <th>240</th>\n",
              "      <td>–</td>\n",
              "      <td>Cocos (Keeling) Islands (Australia)</td>\n",
              "      <td>593</td>\n",
              "      <td>NaN</td>\n",
              "      <td>30 Jun 2020</td>\n",
              "      <td>2021 Census[235]</td>\n",
              "      <td>NaN</td>\n",
              "    </tr>\n",
              "    <tr>\n",
              "      <th>241</th>\n",
              "      <td>–</td>\n",
              "      <td>Pitcairn Islands (UK)</td>\n",
              "      <td>47</td>\n",
              "      <td>NaN</td>\n",
              "      <td>1 Jul 2021</td>\n",
              "      <td>Official estimate[236]</td>\n",
              "      <td>NaN</td>\n",
              "    </tr>\n",
              "  </tbody>\n",
              "</table>\n",
              "<p>242 rows × 7 columns</p>\n",
              "</div>\n",
              "    <div class=\"colab-df-buttons\">\n",
              "\n",
              "  <div class=\"colab-df-container\">\n",
              "    <button class=\"colab-df-convert\" onclick=\"convertToInteractive('df-a0c586da-788a-4ecb-8092-372bfaca5388')\"\n",
              "            title=\"Convert this dataframe to an interactive table.\"\n",
              "            style=\"display:none;\">\n",
              "\n",
              "  <svg xmlns=\"http://www.w3.org/2000/svg\" height=\"24px\" viewBox=\"0 -960 960 960\">\n",
              "    <path d=\"M120-120v-720h720v720H120Zm60-500h600v-160H180v160Zm220 220h160v-160H400v160Zm0 220h160v-160H400v160ZM180-400h160v-160H180v160Zm440 0h160v-160H620v160ZM180-180h160v-160H180v160Zm440 0h160v-160H620v160Z\"/>\n",
              "  </svg>\n",
              "    </button>\n",
              "\n",
              "  <style>\n",
              "    .colab-df-container {\n",
              "      display:flex;\n",
              "      gap: 12px;\n",
              "    }\n",
              "\n",
              "    .colab-df-convert {\n",
              "      background-color: #E8F0FE;\n",
              "      border: none;\n",
              "      border-radius: 50%;\n",
              "      cursor: pointer;\n",
              "      display: none;\n",
              "      fill: #1967D2;\n",
              "      height: 32px;\n",
              "      padding: 0 0 0 0;\n",
              "      width: 32px;\n",
              "    }\n",
              "\n",
              "    .colab-df-convert:hover {\n",
              "      background-color: #E2EBFA;\n",
              "      box-shadow: 0px 1px 2px rgba(60, 64, 67, 0.3), 0px 1px 3px 1px rgba(60, 64, 67, 0.15);\n",
              "      fill: #174EA6;\n",
              "    }\n",
              "\n",
              "    .colab-df-buttons div {\n",
              "      margin-bottom: 4px;\n",
              "    }\n",
              "\n",
              "    [theme=dark] .colab-df-convert {\n",
              "      background-color: #3B4455;\n",
              "      fill: #D2E3FC;\n",
              "    }\n",
              "\n",
              "    [theme=dark] .colab-df-convert:hover {\n",
              "      background-color: #434B5C;\n",
              "      box-shadow: 0px 1px 3px 1px rgba(0, 0, 0, 0.15);\n",
              "      filter: drop-shadow(0px 1px 2px rgba(0, 0, 0, 0.3));\n",
              "      fill: #FFFFFF;\n",
              "    }\n",
              "  </style>\n",
              "\n",
              "    <script>\n",
              "      const buttonEl =\n",
              "        document.querySelector('#df-a0c586da-788a-4ecb-8092-372bfaca5388 button.colab-df-convert');\n",
              "      buttonEl.style.display =\n",
              "        google.colab.kernel.accessAllowed ? 'block' : 'none';\n",
              "\n",
              "      async function convertToInteractive(key) {\n",
              "        const element = document.querySelector('#df-a0c586da-788a-4ecb-8092-372bfaca5388');\n",
              "        const dataTable =\n",
              "          await google.colab.kernel.invokeFunction('convertToInteractive',\n",
              "                                                    [key], {});\n",
              "        if (!dataTable) return;\n",
              "\n",
              "        const docLinkHtml = 'Like what you see? Visit the ' +\n",
              "          '<a target=\"_blank\" href=https://colab.research.google.com/notebooks/data_table.ipynb>data table notebook</a>'\n",
              "          + ' to learn more about interactive tables.';\n",
              "        element.innerHTML = '';\n",
              "        dataTable['output_type'] = 'display_data';\n",
              "        await google.colab.output.renderOutput(dataTable, element);\n",
              "        const docLink = document.createElement('div');\n",
              "        docLink.innerHTML = docLinkHtml;\n",
              "        element.appendChild(docLink);\n",
              "      }\n",
              "    </script>\n",
              "  </div>\n",
              "\n",
              "\n",
              "<div id=\"df-14f8ecb1-be78-43bb-b61f-41fef56044f3\">\n",
              "  <button class=\"colab-df-quickchart\" onclick=\"quickchart('df-14f8ecb1-be78-43bb-b61f-41fef56044f3')\"\n",
              "            title=\"Suggest charts\"\n",
              "            style=\"display:none;\">\n",
              "\n",
              "<svg xmlns=\"http://www.w3.org/2000/svg\" height=\"24px\"viewBox=\"0 0 24 24\"\n",
              "     width=\"24px\">\n",
              "    <g>\n",
              "        <path d=\"M19 3H5c-1.1 0-2 .9-2 2v14c0 1.1.9 2 2 2h14c1.1 0 2-.9 2-2V5c0-1.1-.9-2-2-2zM9 17H7v-7h2v7zm4 0h-2V7h2v10zm4 0h-2v-4h2v4z\"/>\n",
              "    </g>\n",
              "</svg>\n",
              "  </button>\n",
              "\n",
              "<style>\n",
              "  .colab-df-quickchart {\n",
              "      --bg-color: #E8F0FE;\n",
              "      --fill-color: #1967D2;\n",
              "      --hover-bg-color: #E2EBFA;\n",
              "      --hover-fill-color: #174EA6;\n",
              "      --disabled-fill-color: #AAA;\n",
              "      --disabled-bg-color: #DDD;\n",
              "  }\n",
              "\n",
              "  [theme=dark] .colab-df-quickchart {\n",
              "      --bg-color: #3B4455;\n",
              "      --fill-color: #D2E3FC;\n",
              "      --hover-bg-color: #434B5C;\n",
              "      --hover-fill-color: #FFFFFF;\n",
              "      --disabled-bg-color: #3B4455;\n",
              "      --disabled-fill-color: #666;\n",
              "  }\n",
              "\n",
              "  .colab-df-quickchart {\n",
              "    background-color: var(--bg-color);\n",
              "    border: none;\n",
              "    border-radius: 50%;\n",
              "    cursor: pointer;\n",
              "    display: none;\n",
              "    fill: var(--fill-color);\n",
              "    height: 32px;\n",
              "    padding: 0;\n",
              "    width: 32px;\n",
              "  }\n",
              "\n",
              "  .colab-df-quickchart:hover {\n",
              "    background-color: var(--hover-bg-color);\n",
              "    box-shadow: 0 1px 2px rgba(60, 64, 67, 0.3), 0 1px 3px 1px rgba(60, 64, 67, 0.15);\n",
              "    fill: var(--button-hover-fill-color);\n",
              "  }\n",
              "\n",
              "  .colab-df-quickchart-complete:disabled,\n",
              "  .colab-df-quickchart-complete:disabled:hover {\n",
              "    background-color: var(--disabled-bg-color);\n",
              "    fill: var(--disabled-fill-color);\n",
              "    box-shadow: none;\n",
              "  }\n",
              "\n",
              "  .colab-df-spinner {\n",
              "    border: 2px solid var(--fill-color);\n",
              "    border-color: transparent;\n",
              "    border-bottom-color: var(--fill-color);\n",
              "    animation:\n",
              "      spin 1s steps(1) infinite;\n",
              "  }\n",
              "\n",
              "  @keyframes spin {\n",
              "    0% {\n",
              "      border-color: transparent;\n",
              "      border-bottom-color: var(--fill-color);\n",
              "      border-left-color: var(--fill-color);\n",
              "    }\n",
              "    20% {\n",
              "      border-color: transparent;\n",
              "      border-left-color: var(--fill-color);\n",
              "      border-top-color: var(--fill-color);\n",
              "    }\n",
              "    30% {\n",
              "      border-color: transparent;\n",
              "      border-left-color: var(--fill-color);\n",
              "      border-top-color: var(--fill-color);\n",
              "      border-right-color: var(--fill-color);\n",
              "    }\n",
              "    40% {\n",
              "      border-color: transparent;\n",
              "      border-right-color: var(--fill-color);\n",
              "      border-top-color: var(--fill-color);\n",
              "    }\n",
              "    60% {\n",
              "      border-color: transparent;\n",
              "      border-right-color: var(--fill-color);\n",
              "    }\n",
              "    80% {\n",
              "      border-color: transparent;\n",
              "      border-right-color: var(--fill-color);\n",
              "      border-bottom-color: var(--fill-color);\n",
              "    }\n",
              "    90% {\n",
              "      border-color: transparent;\n",
              "      border-bottom-color: var(--fill-color);\n",
              "    }\n",
              "  }\n",
              "</style>\n",
              "\n",
              "  <script>\n",
              "    async function quickchart(key) {\n",
              "      const quickchartButtonEl =\n",
              "        document.querySelector('#' + key + ' button');\n",
              "      quickchartButtonEl.disabled = true;  // To prevent multiple clicks.\n",
              "      quickchartButtonEl.classList.add('colab-df-spinner');\n",
              "      try {\n",
              "        const charts = await google.colab.kernel.invokeFunction(\n",
              "            'suggestCharts', [key], {});\n",
              "      } catch (error) {\n",
              "        console.error('Error during call to suggestCharts:', error);\n",
              "      }\n",
              "      quickchartButtonEl.classList.remove('colab-df-spinner');\n",
              "      quickchartButtonEl.classList.add('colab-df-quickchart-complete');\n",
              "    }\n",
              "    (() => {\n",
              "      let quickchartButtonEl =\n",
              "        document.querySelector('#df-14f8ecb1-be78-43bb-b61f-41fef56044f3 button');\n",
              "      quickchartButtonEl.style.display =\n",
              "        google.colab.kernel.accessAllowed ? 'block' : 'none';\n",
              "    })();\n",
              "  </script>\n",
              "</div>\n",
              "    </div>\n",
              "  </div>\n"
            ]
          },
          "metadata": {},
          "execution_count": 12
        }
      ]
    },
    {
      "cell_type": "markdown",
      "source": [
        "In this part of the code we are displaying the processed DataFrame after reading it from the HTML table."
      ],
      "metadata": {
        "id": "mtgbCVxAwCd9"
      }
    },
    {
      "cell_type": "code",
      "source": [
        "import pandas as pd\n",
        "import matplotlib.pyplot as plt\n",
        "\n",
        "# Load the data from the CSV file\n",
        "world_df = pd.read_csv(\"population_raw_data.csv\")\n",
        "\n",
        "# Take the top 50 movies\n",
        "top_20_countries = world_df.head(21)\n",
        "\n",
        "Country = top_20_countries['Country / Dependency']\n",
        "Population = top_20_countries['Population']\n",
        "\n",
        "# Create a bar graph comparing ratings by genre\n",
        "plt.figure(figsize=(12, 6))\n",
        "plt.barh(Country, Population, color='b')\n",
        "plt.xlabel('Population')\n",
        "plt.ylabel('Country')\n",
        "plt.title('Top 20 Countries')\n",
        "plt.tight_layout()\n",
        "\n",
        "# Show the graph\n",
        "plt.show()\n"
      ],
      "metadata": {
        "colab": {
          "base_uri": "https://localhost:8080/",
          "height": 607
        },
        "id": "2gf6_tVLVxBV",
        "outputId": "a7067fd1-9e72-47fa-9521-11d2a9d74f19"
      },
      "execution_count": 13,
      "outputs": [
        {
          "output_type": "display_data",
          "data": {
            "text/plain": [
              "<Figure size 1200x600 with 1 Axes>"
            ],
            "image/png": "[encoded data removed]"
          },
          "metadata": {}
        }
      ]
    },
    {
      "cell_type": "markdown",
      "source": [
        "Using the Matplotlib library to create and display a horizontal bar graph comparing the populations of the top 19 countries and the wolrds population.\n",
        ""
      ],
      "metadata": {
        "id": "Xmc2660kwDgg"
      }
    },
    {
      "cell_type": "markdown",
      "source": [
        "The accuracy and relevance of this dataset and visualization are critical for illustrating reliable conclusions and assessing the source's reliability. Furthermore, their representativeness is important because it determines how well the data represents the population I am presenting. The more representative the data, the greater its accuracy and relevance. Additionally, what I found interesting from this data is Iran being in the top 20 countries highly populated. Doing further research, this is because When the Iranian monarchy was overthrown, the leaders of the new Islamic republic drew attention to a new national agenda, which was population growth."
      ],
      "metadata": {
        "id": "VO6hgvvuxZVc"
      }
    }
  ]
}